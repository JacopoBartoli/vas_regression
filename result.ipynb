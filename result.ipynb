{
  "nbformat": 4,
  "nbformat_minor": 0,
  "metadata": {
    "colab": {
      "name": "result.ipynb",
      "provenance": [],
      "collapsed_sections": [],
      "authorship_tag": "ABX9TyP37ImfzvQ+dw5pC5bUhA1r",
      "include_colab_link": true
    },
    "kernelspec": {
      "name": "python3",
      "display_name": "Python 3"
    },
    "language_info": {
      "name": "python"
    }
  },
  "cells": [
    {
      "cell_type": "markdown",
      "metadata": {
        "id": "view-in-github",
        "colab_type": "text"
      },
      "source": [
        "<a href=\"https://colab.research.google.com/github/JacopoBartoli/vas_regression/blob/main/result.ipynb\" target=\"_parent\"><img src=\"https://colab.research.google.com/assets/colab-badge.svg\" alt=\"Open In Colab\"/></a>"
      ]
    },
    {
      "cell_type": "markdown",
      "metadata": {
        "id": "HZ7p5vaRTcCs"
      },
      "source": [
        "# 1) Results visualization.\n",
        "Using tensorboard to visualize the results of the training and test phase."
      ]
    },
    {
      "cell_type": "code",
      "metadata": {
        "id": "xmbqv2FdTZ78"
      },
      "source": [
        "# Mount your drive to access the dataset.\n",
        "from google.colab import drive\n",
        "drive.mount('/content/gdrive')\n",
        "#Explore the path for loading the results.\n",
        "!ls -l '/content/gdrive/My Drive/IVA/logs/gradient_tape/'"
      ],
      "execution_count": null,
      "outputs": []
    },
    {
      "cell_type": "code",
      "metadata": {
        "id": "AtwKWL6vTnKY"
      },
      "source": [
        "%reload_ext tensorboard\n",
        "%tensorboard --logdir '/content/gdrive/My Drive/IVA/logs/gradient_tape/'"
      ],
      "execution_count": null,
      "outputs": []
    }
  ]
}