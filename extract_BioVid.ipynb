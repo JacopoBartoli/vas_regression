{
  "nbformat": 4,
  "nbformat_minor": 0,
  "metadata": {
    "colab": {
      "name": "extract_BioVid.ipynb",
      "provenance": [],
      "collapsed_sections": [],
      "authorship_tag": "ABX9TyOh+drMI5Nq1kCsLi5a/FnW",
      "include_colab_link": true
    },
    "kernelspec": {
      "name": "python3",
      "display_name": "Python 3"
    },
    "language_info": {
      "name": "python"
    }
  },
  "cells": [
    {
      "cell_type": "markdown",
      "metadata": {
        "id": "view-in-github",
        "colab_type": "text"
      },
      "source": [
        "<a href=\"https://colab.research.google.com/github/JacopoBartoli/vas_regression/blob/main/extract_BioVid.ipynb\" target=\"_parent\"><img src=\"https://colab.research.google.com/assets/colab-badge.svg\" alt=\"Open In Colab\"/></a>"
      ]
    },
    {
      "cell_type": "markdown",
      "metadata": {
        "id": "wY_6euZvHbW8"
      },
      "source": [
        "#1) Extract data from BioVid zip"
      ]
    },
    {
      "cell_type": "code",
      "metadata": {
        "id": "t1m13huPHU_0"
      },
      "source": [
        "import os\n",
        "import json\n",
        "import pandas as pd\n",
        "\n",
        "path_landmarks = '.../Biovid-landmarks-labels/JSON_landmarks/' # Path to Biovid-landmarks-labels.zip extracted\n",
        "subjects = [name for name in sorted(os.listdir(path_landmarks))]  # List of subjects\n",
        "\n",
        "# FIRST correspond to first element of dataset used to costruct training or test file \n",
        "# LAST correspond to last element of dataset \n",
        "\n",
        "FIRST = 7000\n",
        "LAST = len(subjects)\n",
        "\n",
        "file_name = 'dataset_final_' + str(LAST-FIRST) + '.csv'\n",
        "\n",
        "path_save = '/path_save/' + file_name # Path where save csv file\n",
        "\n",
        "\n",
        "lst = []\n",
        "element = []\n",
        "\n",
        "for i in range(FIRST,LAST):\n",
        "\n",
        "    subject = subjects[i]\n",
        "    sequences_path = path_landmarks + subject + '/'\n",
        "    sequences = [name for name in sorted(os.listdir(sequences_path))]  # List of sequences\n",
        "\n",
        "    for num_seq in range(0,len(sequences)):\n",
        "\n",
        "        element.append(i)\n",
        "        element.append(num_seq)\n",
        "\n",
        "        print(element)\n",
        "\n",
        "        seq = sequences[num_seq]\n",
        "        frame = sequences_path + seq\n",
        "        # Open JSON file and read coordinates\n",
        "        with open(frame, 'r') as f:\n",
        "\n",
        "            json_dict = json.load(f)\n",
        "            if len(json_dict['people']) != 0:\n",
        "                landmarks = json_dict['people'][0]['face_keypoints_2d']\n",
        "            else:\n",
        "                print(subject , \" - \" , num_seq)\n",
        "\n",
        "            # Get x and y coordinates (third component is a confidence score)\n",
        "            ll_x = [landmarks[x] for x in range(0, len(landmarks), 3)]\n",
        "            ll_y = [landmarks[x] for x in range(1, len(landmarks), 3)]\n",
        "            confidence = [landmarks[x] for x in range(2, len(landmarks), 3)]\n",
        "\n",
        "            for k in ll_x:\n",
        "                element.append(k)\n",
        "            for k in ll_y:\n",
        "                element.append(k)\n",
        "\n",
        "        lst.append(element)\n",
        "        element = []\n",
        "\n",
        "\n",
        "col = range(0,142)\n",
        "df = pd.DataFrame(lst,columns=col)\n",
        "print(df)\n",
        "df.to_csv('.../path_save', index=False) \n"
      ],
      "execution_count": null,
      "outputs": []
    },
    {
      "cell_type": "code",
      "metadata": {
        "id": "WzMfqnhbbhSh"
      },
      "source": [
        ""
      ],
      "execution_count": null,
      "outputs": []
    }
  ]
}